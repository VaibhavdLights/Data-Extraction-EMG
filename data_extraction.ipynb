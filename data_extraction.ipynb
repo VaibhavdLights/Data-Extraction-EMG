{
 "cells": [
  {
   "cell_type": "code",
   "execution_count": 17,
   "metadata": {},
   "outputs": [],
   "source": [
    "import numpy as np\n",
    "import pandas as pd\n",
    "import matplotlib.pyplot as plt\n",
    "import seaborn as sns\n",
    "import scipy.io\n",
    "%matplotlib inline\n",
    "\n",
    "import warnings\n",
    "warnings.filterwarnings(\"ignore\")"
   ]
  },
  {
   "cell_type": "code",
   "execution_count": 18,
   "metadata": {},
   "outputs": [],
   "source": [
    "def data_extraction(file):\n",
    "    df1 = pd.read_csv(file).iloc[2:]\n",
    "    df1 = df1.reset_index(drop='first')\n",
    "    df1.drop(columns=['type', 'time_units', 'begin_time', 'frequency', 'count', 'units'], inplace=True)\n",
    "    df1.rename(columns={'name':'value'},inplace=True)\n",
    "    df1['value'] = df1['value'].astype('object').astype('float')\n",
    "    df1.to_csv(file)\n",
    "    return df1"
   ]
  },
  {
   "cell_type": "code",
   "execution_count": 19,
   "metadata": {},
   "outputs": [],
   "source": [
    "def data(df, file_name):\n",
    "    plt.figure(figsize=(12,8))\n",
    "\n",
    "    plt.subplot(2,2,1)\n",
    "    plt.plot(df['time'], df['value'])\n",
    "    plt.title(file_name)\n",
    "    plt.xlabel('time')\n",
    "    plt.ylabel('mili-volts')\n",
    "\n",
    "    plt.subplot(2,2,2)\n",
    "    sns.distplot(df['value'])\n",
    "    plt.title(file_name)\n",
    "\n",
    "    plt.tight_layout()\n",
    "    plt.show()"
   ]
  },
  {
   "cell_type": "code",
   "execution_count": 20,
   "metadata": {},
   "outputs": [
    {
     "name": "stdout",
     "output_type": "stream",
     "text": [
      "Sub 0\\1_mouse1_Ultium EMG-ABDUCT.POL. RT.csv\n",
      "Sub 0\\1_mouse1_Ultium EMG-BRACHIORAD. RT.csv\n",
      "Sub 0\\1_mouse1_Ultium EMG-EXT.CARP.ULN. RT.csv\n",
      "Sub 0\\1_mouse1_Ultium EMG-EXT.DIG. RT.csv\n",
      "Sub 0\\1_mouse1_Ultium EMG-FLEX.CAPR.U RT.csv\n",
      "Sub 0\\1_mouse1_Ultium EMG-FLEX.CARP.R RT.csv\n",
      "Sub 0\\2_mouse1_Ultium EMG-ABDUCT.POL. RT.csv\n",
      "Sub 0\\2_mouse1_Ultium EMG-BRACHIORAD. RT.csv\n",
      "Sub 0\\2_mouse1_Ultium EMG-EXT.CARP.ULN. RT.csv\n",
      "Sub 0\\2_mouse1_Ultium EMG-EXT.DIG. RT.csv\n",
      "Sub 0\\2_mouse1_Ultium EMG-FLEX.CAPR.U RT.csv\n",
      "Sub 0\\2_mouse1_Ultium EMG-FLEX.CARP.R RT.csv\n",
      "Sub 0\\3_mouse1_Ultium EMG-ABDUCT.POL. RT.csv\n",
      "Sub 0\\3_mouse1_Ultium EMG-BRACHIORAD. RT.csv\n",
      "Sub 0\\3_mouse1_Ultium EMG-EXT.CARP.ULN. RT.csv\n",
      "Sub 0\\3_mouse1_Ultium EMG-EXT.DIG. RT.csv\n",
      "Sub 0\\3_mouse1_Ultium EMG-FLEX.CAPR.U RT.csv\n",
      "Sub 0\\3_mouse1_Ultium EMG-FLEX.CARP.R RT.csv\n",
      "Sub 0\\4_mouse1_Ultium EMG-ABDUCT.POL. RT.csv\n",
      "Sub 0\\4_mouse1_Ultium EMG-BRACHIORAD. RT.csv\n",
      "Sub 0\\4_mouse1_Ultium EMG-EXT.CARP.ULN. RT.csv\n",
      "Sub 0\\4_mouse1_Ultium EMG-EXT.DIG. RT.csv\n",
      "Sub 0\\4_mouse1_Ultium EMG-FLEX.CAPR.U RT.csv\n",
      "Sub 0\\4_mouse1_Ultium EMG-FLEX.CARP.R RT.csv\n",
      "Sub 0\\5_mouse1_Ultium EMG-ABDUCT.POL. RT.csv\n",
      "Sub 0\\5_mouse1_Ultium EMG-BRACHIORAD. RT.csv\n",
      "Sub 0\\5_mouse1_Ultium EMG-EXT.CARP.ULN. RT.csv\n",
      "Sub 0\\5_mouse1_Ultium EMG-EXT.DIG. RT.csv\n",
      "Sub 0\\5_mouse1_Ultium EMG-FLEX.CAPR.U RT.csv\n",
      "Sub 0\\5_mouse1_Ultium EMG-FLEX.CARP.R RT.csv\n",
      "Sub 0\\6_mouse1_Ultium EMG-ABDUCT.POL. RT.csv\n",
      "Sub 0\\6_mouse1_Ultium EMG-BRACHIORAD. RT.csv\n",
      "Sub 0\\6_mouse1_Ultium EMG-EXT.CARP.ULN. RT.csv\n",
      "Sub 0\\6_mouse1_Ultium EMG-EXT.DIG. RT.csv\n",
      "Sub 0\\6_mouse1_Ultium EMG-FLEX.CAPR.U RT.csv\n",
      "Sub 0\\6_mouse1_Ultium EMG-FLEX.CARP.R RT.csv\n",
      "Sub 0\\7_mouse1_Ultium EMG-ABDUCT.POL. RT.csv\n",
      "Sub 0\\7_mouse1_Ultium EMG-BRACHIORAD. RT.csv\n",
      "Sub 0\\7_mouse1_Ultium EMG-EXT.CARP.ULN. RT.csv\n",
      "Sub 0\\7_mouse1_Ultium EMG-EXT.DIG. RT.csv\n",
      "Sub 0\\7_mouse1_Ultium EMG-FLEX.CAPR.U RT.csv\n",
      "Sub 0\\7_mouse1_Ultium EMG-FLEX.CARP.R RT.csv\n",
      "Sub 0\\8_mouse1_Ultium EMG-ABDUCT.POL. RT.csv\n",
      "Sub 0\\8_mouse1_Ultium EMG-BRACHIORAD. RT.csv\n",
      "Sub 0\\8_mouse1_Ultium EMG-EXT.CARP.ULN. RT.csv\n",
      "Sub 0\\8_mouse1_Ultium EMG-EXT.DIG. RT.csv\n",
      "Sub 0\\8_mouse1_Ultium EMG-FLEX.CAPR.U RT.csv\n",
      "Sub 0\\8_mouse1_Ultium EMG-FLEX.CARP.R RT.csv\n",
      "Sub 0\\9_mouse1_Ultium EMG-ABDUCT.POL. RT.csv\n",
      "Sub 0\\9_mouse1_Ultium EMG-BRACHIORAD. RT.csv\n",
      "Sub 0\\9_mouse1_Ultium EMG-EXT.CARP.ULN. RT.csv\n",
      "Sub 0\\9_mouse1_Ultium EMG-EXT.DIG. RT.csv\n",
      "Sub 0\\9_mouse1_Ultium EMG-FLEX.CAPR.U RT.csv\n",
      "Sub 0\\9_mouse1_Ultium EMG-FLEX.CARP.R RT.csv\n",
      "Sub 0\\10_mouse1_Ultium EMG-ABDUCT.POL. RT.csv\n",
      "Sub 0\\10_mouse1_Ultium EMG-BRACHIORAD. RT.csv\n",
      "Sub 0\\10_mouse1_Ultium EMG-EXT.CARP.ULN. RT.csv\n",
      "Sub 0\\10_mouse1_Ultium EMG-EXT.DIG. RT.csv\n",
      "Sub 0\\10_mouse1_Ultium EMG-FLEX.CAPR.U RT.csv\n",
      "Sub 0\\10_mouse1_Ultium EMG-FLEX.CARP.R RT.csv\n",
      "Sub 0\\11_mouse2_Ultium EMG-ABDUCT.POL. RT.csv\n",
      "Sub 0\\11_mouse2_Ultium EMG-BRACHIORAD. RT.csv\n",
      "Sub 0\\11_mouse2_Ultium EMG-EXT.CARP.ULN. RT.csv\n",
      "Sub 0\\11_mouse2_Ultium EMG-EXT.DIG. RT.csv\n",
      "Sub 0\\11_mouse2_Ultium EMG-FLEX.CAPR.U RT.csv\n",
      "Sub 0\\11_mouse2_Ultium EMG-FLEX.CARP.R RT.csv\n",
      "Sub 0\\12_mouse2_Ultium EMG-ABDUCT.POL. RT.csv\n",
      "Sub 0\\12_mouse2_Ultium EMG-BRACHIORAD. RT.csv\n",
      "Sub 0\\12_mouse2_Ultium EMG-EXT.CARP.ULN. RT.csv\n",
      "Sub 0\\12_mouse2_Ultium EMG-EXT.DIG. RT.csv\n",
      "Sub 0\\12_mouse2_Ultium EMG-FLEX.CAPR.U RT.csv\n",
      "Sub 0\\12_mouse2_Ultium EMG-FLEX.CARP.R RT.csv\n",
      "Sub 0\\13_mouse2_Ultium EMG-ABDUCT.POL. RT.csv\n",
      "Sub 0\\13_mouse2_Ultium EMG-BRACHIORAD. RT.csv\n",
      "Sub 0\\13_mouse2_Ultium EMG-EXT.CARP.ULN. RT.csv\n",
      "Sub 0\\13_mouse2_Ultium EMG-EXT.DIG. RT.csv\n",
      "Sub 0\\13_mouse2_Ultium EMG-FLEX.CAPR.U RT.csv\n",
      "Sub 0\\13_mouse2_Ultium EMG-FLEX.CARP.R RT.csv\n",
      "Sub 0\\14_mouse2_Ultium EMG-ABDUCT.POL. RT.csv\n",
      "Sub 0\\14_mouse2_Ultium EMG-BRACHIORAD. RT.csv\n",
      "Sub 0\\14_mouse2_Ultium EMG-EXT.CARP.ULN. RT.csv\n",
      "Sub 0\\14_mouse2_Ultium EMG-EXT.DIG. RT.csv\n",
      "Sub 0\\14_mouse2_Ultium EMG-FLEX.CAPR.U RT.csv\n",
      "Sub 0\\14_mouse2_Ultium EMG-FLEX.CARP.R RT.csv\n",
      "Sub 0\\15_mouse2_Ultium EMG-ABDUCT.POL. RT.csv\n",
      "Sub 0\\15_mouse2_Ultium EMG-BRACHIORAD. RT.csv\n",
      "Sub 0\\15_mouse2_Ultium EMG-EXT.CARP.ULN. RT.csv\n",
      "Sub 0\\15_mouse2_Ultium EMG-EXT.DIG. RT.csv\n",
      "Sub 0\\15_mouse2_Ultium EMG-FLEX.CAPR.U RT.csv\n",
      "Sub 0\\15_mouse2_Ultium EMG-FLEX.CARP.R RT.csv\n",
      "Sub 0\\16_mouse2_Ultium EMG-ABDUCT.POL. RT.csv\n",
      "Sub 0\\16_mouse2_Ultium EMG-BRACHIORAD. RT.csv\n",
      "Sub 0\\16_mouse2_Ultium EMG-EXT.CARP.ULN. RT.csv\n",
      "Sub 0\\16_mouse2_Ultium EMG-EXT.DIG. RT.csv\n",
      "Sub 0\\16_mouse2_Ultium EMG-FLEX.CAPR.U RT.csv\n",
      "Sub 0\\16_mouse2_Ultium EMG-FLEX.CARP.R RT.csv\n",
      "Sub 0\\17_mouse2_Ultium EMG-ABDUCT.POL. RT.csv\n",
      "Sub 0\\17_mouse2_Ultium EMG-BRACHIORAD. RT.csv\n",
      "Sub 0\\17_mouse2_Ultium EMG-EXT.CARP.ULN. RT.csv\n",
      "Sub 0\\17_mouse2_Ultium EMG-EXT.DIG. RT.csv\n",
      "Sub 0\\17_mouse2_Ultium EMG-FLEX.CAPR.U RT.csv\n",
      "Sub 0\\17_mouse2_Ultium EMG-FLEX.CARP.R RT.csv\n",
      "Sub 0\\18_mouse2_Ultium EMG-ABDUCT.POL. RT.csv\n",
      "Sub 0\\18_mouse2_Ultium EMG-BRACHIORAD. RT.csv\n",
      "Sub 0\\18_mouse2_Ultium EMG-EXT.CARP.ULN. RT.csv\n",
      "Sub 0\\18_mouse2_Ultium EMG-EXT.DIG. RT.csv\n",
      "Sub 0\\18_mouse2_Ultium EMG-FLEX.CAPR.U RT.csv\n",
      "Sub 0\\18_mouse2_Ultium EMG-FLEX.CARP.R RT.csv\n",
      "Sub 0\\19_mouse2_Ultium EMG-ABDUCT.POL. RT.csv\n",
      "Sub 0\\19_mouse2_Ultium EMG-BRACHIORAD. RT.csv\n",
      "Sub 0\\19_mouse2_Ultium EMG-EXT.CARP.ULN. RT.csv\n",
      "Sub 0\\19_mouse2_Ultium EMG-EXT.DIG. RT.csv\n",
      "Sub 0\\19_mouse2_Ultium EMG-FLEX.CAPR.U RT.csv\n",
      "Sub 0\\19_mouse2_Ultium EMG-FLEX.CARP.R RT.csv\n",
      "Sub 0\\20_mouse2_Ultium EMG-ABDUCT.POL. RT.csv\n",
      "Sub 0\\20_mouse2_Ultium EMG-BRACHIORAD. RT.csv\n",
      "Sub 0\\20_mouse2_Ultium EMG-EXT.CARP.ULN. RT.csv\n",
      "Sub 0\\20_mouse2_Ultium EMG-EXT.DIG. RT.csv\n",
      "Sub 0\\20_mouse2_Ultium EMG-FLEX.CAPR.U RT.csv\n",
      "Sub 0\\20_mouse2_Ultium EMG-FLEX.CARP.R RT.csv\n"
     ]
    }
   ],
   "source": [
    "import os\n",
    "folder_path = \"Sub 0\"\n",
    "\n",
    "df=[]\n",
    "file_names = []\n",
    "\n",
    "for file_name in sorted(os.listdir(folder_path), key=lambda x: int(x.split('_')[0])):\n",
    "    if file_name.endswith('.csv'):\n",
    "        file_path = os.path.join(folder_path, file_name)\n",
    "        df1 = data_extraction(file_path)\n",
    "        df.append(df1)\n",
    "        file_names.append(file_name)"
   ]
  },
  {
   "cell_type": "code",
   "execution_count": 21,
   "metadata": {},
   "outputs": [],
   "source": [
    "dataframes = []\n",
    "\n",
    "column_names = ['ED', 'ECR', 'ECU', 'BRACH', 'FCR', 'FDI']\n",
    "\n",
    "for i in range(len(df)//6):\n",
    "    new_df = pd.concat([df[i*6], df[i*6+1], df[i*6+2], df[i*6+3], df[i*6+4], df[i*6+5]], axis=1)\n",
    "    new_df.columns = column_names\n",
    "    dataframes.append(new_df)"
   ]
  },
  {
   "cell_type": "code",
   "execution_count": 22,
   "metadata": {},
   "outputs": [
    {
     "data": {
      "text/plain": [
       "20"
      ]
     },
     "execution_count": 22,
     "metadata": {},
     "output_type": "execute_result"
    }
   ],
   "source": [
    "len(dataframes)"
   ]
  },
  {
   "cell_type": "code",
   "execution_count": 26,
   "metadata": {},
   "outputs": [
    {
     "name": "stdout",
     "output_type": "stream",
     "text": [
      "(79880, 6)\n",
      "(80000, 6)\n",
      "(80000, 6)\n",
      "(80000, 6)\n",
      "(80000, 6)\n",
      "(80000, 6)\n",
      "(80000, 6)\n",
      "(80000, 6)\n",
      "(80000, 6)\n",
      "(80000, 6)\n",
      "(80000, 6)\n",
      "(80000, 6)\n",
      "(80000, 6)\n",
      "(80000, 6)\n",
      "(80000, 6)\n",
      "(80000, 6)\n",
      "(80000, 6)\n",
      "(80000, 6)\n",
      "(80000, 6)\n",
      "(80000, 6)\n"
     ]
    }
   ],
   "source": [
    "for _df in dataframes:\n",
    "    print(_df.shape)"
   ]
  },
  {
   "cell_type": "code",
   "execution_count": 28,
   "metadata": {},
   "outputs": [
    {
     "name": "stdout",
     "output_type": "stream",
     "text": [
      "Data organization completed.\n"
     ]
    }
   ],
   "source": [
    "folder_path = \"data\"\n",
    "\n",
    "for i, df in enumerate(dataframes):\n",
    "    subject_num = i // (2 * 2 * 4 * 10)\n",
    "    weapon_num = (i // (2 * 4 * 10)) % 2\n",
    "    mode_num = (i // (4 * 10)) % 2\n",
    "    mouse_num = (i // 10) % 4\n",
    "    trial_num = i % 10 + 1\n",
    "\n",
    "    subject_folder = os.path.join(folder_path, f\"sub{subject_num}\")\n",
    "    weapon_folder = os.path.join(subject_folder, \"Vandal\" if weapon_num == 0 else \"Guardian\")\n",
    "    mode_folder = os.path.join(weapon_folder, \"Hard\" if mode_num == 0 else \"Medium\")\n",
    "    mouse_folder = os.path.join(mode_folder, f\"Mouse{mouse_num+1}\")\n",
    "\n",
    "    for folder in [subject_folder, weapon_folder, mode_folder, mouse_folder]:\n",
    "        os.makedirs(folder, exist_ok=True)\n",
    "\n",
    "    trial_file = os.path.join(mouse_folder, f\"Trial{trial_num}.csv\")\n",
    "    df.to_csv(trial_file, index=False)\n",
    "\n",
    "print(\"Data organization completed.\")"
   ]
  },
  {
   "cell_type": "code",
   "execution_count": null,
   "metadata": {},
   "outputs": [],
   "source": []
  }
 ],
 "metadata": {
  "kernelspec": {
   "display_name": "Python 3",
   "language": "python",
   "name": "python3"
  },
  "language_info": {
   "codemirror_mode": {
    "name": "ipython",
    "version": 3
   },
   "file_extension": ".py",
   "mimetype": "text/x-python",
   "name": "python",
   "nbconvert_exporter": "python",
   "pygments_lexer": "ipython3",
   "version": "3.10.4"
  }
 },
 "nbformat": 4,
 "nbformat_minor": 2
}
